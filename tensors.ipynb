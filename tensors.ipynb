{
 "metadata": {
  "language_info": {
   "codemirror_mode": {
    "name": "ipython",
    "version": 3
   },
   "file_extension": ".py",
   "mimetype": "text/x-python",
   "name": "python",
   "nbconvert_exporter": "python",
   "pygments_lexer": "ipython3",
   "version": "3.8.5-final"
  },
  "orig_nbformat": 2,
  "kernelspec": {
   "name": "python3",
   "display_name": "Python 3",
   "language": "python"
  }
 },
 "nbformat": 4,
 "nbformat_minor": 2,
 "cells": [
  {
   "cell_type": "code",
   "execution_count": 1,
   "metadata": {},
   "outputs": [
    {
     "output_type": "stream",
     "name": "stdout",
     "text": [
      "numpy version 1.18.5\ntensorflow version 2.4.1\nNum GPU Available:  0\nGPU list:  []\nMemory block address 2706668407152\n2D Shape: (3, 4) 2D Strides: (16, 4) Size 12\n3D Shape: (3, 3, 4) 3D Strides: (96, 32, 8)\n"
     ]
    },
    {
     "output_type": "execute_result",
     "data": {
      "text/plain": [
       "array([[0.01, 0.12, 0.22, 0.32],\n",
       "       [1.02, 1.12, 1.22, 1.32],\n",
       "       [2.02, 2.12, 2.22, 2.32]])"
      ]
     },
     "metadata": {},
     "execution_count": 1
    }
   ],
   "source": [
    "import numpy as np\n",
    "import tensorflow as tf\n",
    "\n",
    "\n",
    "print('{} version {}'.format(np.__name__, np.__version__))\n",
    "print('{} version {}'.format(tf.__name__, tf.__version__))\n",
    "print(\"Num GPU Available: \", len(tf.config.experimental.list_physical_devices('GPU')))\n",
    "print('GPU list: ', tf.config.list_physical_devices('GPU'))\n",
    "\n",
    "a = np.array([\n",
    "    [1, 2, 3, 4],\n",
    "    [5, 6, 7, 8],\n",
    "    [9, 10, 11, 12]\n",
    "], dtype=np.int) # 4 bytes\n",
    "print('Memory block address {}'.format(a.__array_interface__['data'][0]))\n",
    "print('2D Shape: {} 2D Strides: {} Size {}'.format(a.shape, a.strides, a.size))\n",
    "\n",
    "a3D = np.array([\n",
    "    [\n",
    "        [0.00, 0.10, 0.20, 0.30],\n",
    "        [1.00, 1.10, 1.20, 1.30],\n",
    "        [2.00, 2.10, 2.20, 2.30]\n",
    "    ],\n",
    "    [\n",
    "        [0.01, 0.11, 0.21, 0.31],\n",
    "        [1.01, 1.11, 1.21, 1.31],\n",
    "        [2.01, 2.11, 2.21, 2.31]\n",
    "    ],\n",
    "    [\n",
    "        [0.01, 0.12, 0.22, 0.32],\n",
    "        [1.02, 1.12, 1.22, 1.32],\n",
    "        [2.02, 2.12, 2.22, 2.32]\n",
    "    ]\n",
    "], dtype=np.float) # = 8 bytes\n",
    "print('3D Shape: {} 3D Strides: {}'.format(a3D.shape, a3D.strides))\n",
    "a3D[2,:,:] # last slice\n"
   ]
  },
  {
   "source": [
    "# Basis reshape operations\n",
    "\n",
    "Reshape is immutable\n",
    "\n",
    "New 'view' to the array is returned and the origin memory is shared.\n",
    "\n",
    "Only shapes ans strides are changes"
   ],
   "cell_type": "markdown",
   "metadata": {}
  },
  {
   "cell_type": "code",
   "execution_count": 315,
   "metadata": {},
   "outputs": [
    {
     "output_type": "stream",
     "name": "stdout",
     "text": [
      "Shape: (2, 6) Strides: (24, 4)\n"
     ]
    }
   ],
   "source": [
    "\n",
    "r = a.reshape(2, 6)\n",
    "assert np.shares_memory(a, r)\n",
    "print('Shape: {} Strides: {}'.format(r.shape, r.strides))"
   ]
  },
  {
   "cell_type": "code",
   "execution_count": 316,
   "metadata": {},
   "outputs": [
    {
     "output_type": "stream",
     "name": "stdout",
     "text": [
      "Shape: (12, 1) Strides: (4, 4)\n"
     ]
    }
   ],
   "source": [
    "r = a.reshape(-1, 1) # -1 means 'guess by yourself'\n",
    "print('Shape: {} Strides: {}'.format(r.shape, r.strides))"
   ]
  },
  {
   "source": [
    "### Practcal example. Sliding window with means"
   ],
   "cell_type": "markdown",
   "metadata": {}
  },
  {
   "cell_type": "code",
   "execution_count": 325,
   "metadata": {},
   "outputs": [
    {
     "output_type": "stream",
     "name": "stdout",
     "text": [
      "Means: [2. 5. 8.] Sum [ 6 15 24]\n"
     ]
    }
   ],
   "source": [
    "plain = np.array([1,2,3,4,5,6,7,8,9])\n",
    "r = plain.reshape(3, 3)\n",
    "mean = r.mean(axis=1) # row means because axis 1 is columns\n",
    "sum = r.sum(axis=1) # row sum\n",
    "print('Means: {} Sum {}'.format(mean, sum))"
   ]
  },
  {
   "source": [
    "### Stride Tricks"
   ],
   "cell_type": "markdown",
   "metadata": {}
  },
  {
   "cell_type": "code",
   "execution_count": 317,
   "metadata": {},
   "outputs": [
    {
     "output_type": "execute_result",
     "data": {
      "text/plain": [
       "array([[1, 2, 3, ..., 0, 0, 0],\n",
       "       [1, 2, 3, ..., 0, 0, 0],\n",
       "       [1, 2, 3, ..., 0, 0, 0],\n",
       "       ...,\n",
       "       [1, 2, 3, ..., 0, 0, 0],\n",
       "       [1, 2, 3, ..., 0, 0, 0],\n",
       "       [1, 2, 3, ..., 0, 0, 0]])"
      ]
     },
     "metadata": {},
     "execution_count": 317
    }
   ],
   "source": [
    "r = np.lib.stride_tricks.as_strided(a, (2, 6), (24, 4)) # The same as a.reshape(2, 6)\n",
    "assert np.shares_memory(a, r)\n",
    "r = np.lib.stride_tricks.as_strided(a, (30, 40), (0, 4))\n",
    "# Now Numpy believes that this array contains 30x40 different elements, whereas the data buffer actually \n",
    "# contains the same 3x4 elements as original array a\n",
    "assert np.shares_memory(a, r)\n",
    "r"
   ]
  },
  {
   "cell_type": "code",
   "execution_count": 318,
   "metadata": {},
   "outputs": [
    {
     "output_type": "execute_result",
     "data": {
      "text/plain": [
       "array([[[0.  , 0.1 , 0.2 ],\n",
       "        [0.3 , 1.  , 1.1 ],\n",
       "        [1.2 , 1.3 , 2.  ]],\n",
       "\n",
       "       [[2.1 , 2.2 , 2.3 ],\n",
       "        [0.01, 0.11, 0.21],\n",
       "        [0.31, 1.01, 1.11]],\n",
       "\n",
       "       [[1.21, 1.31, 2.01],\n",
       "        [2.11, 2.21, 2.31],\n",
       "        [0.01, 0.12, 0.22]],\n",
       "\n",
       "       [[0.32, 1.02, 1.12],\n",
       "        [1.22, 1.32, 2.02],\n",
       "        [2.12, 2.22, 2.32]]])"
      ]
     },
     "metadata": {},
     "execution_count": 318
    }
   ],
   "source": [
    "a3D.reshape(4, 3, 3)"
   ]
  },
  {
   "source": [
    "# Transpose\n",
    "\n",
    "Transpose is also immutable.\n",
    "\n",
    "It also returns new object with different properties, but the array's memory is shared\n",
    "\n",
    "Transpose is actually reverses the shape and strides\n",
    "\n",
    "but (more importantly) changes the row-major (C-type) to column-major (Fortran-type)"
   ],
   "cell_type": "markdown",
   "metadata": {}
  },
  {
   "cell_type": "code",
   "execution_count": 4,
   "metadata": {
    "tags": []
   },
   "outputs": [
    {
     "output_type": "stream",
     "name": "stdout",
     "text": [
      "Transposed Shapes: (4, 3) Strides: (4, 16)\n"
     ]
    }
   ],
   "source": [
    "# %timeit \n",
    "b = a.T  # .T is a property of np.array object\n",
    "assert np.shares_memory(a, b)\n",
    "print('Transposed Shapes: {} Strides: {}'.format(b.shape, b.strides ))\n",
    "assert b.data.f_contiguous\n",
    "b[0, 0] = 100 # a[0, 0] is changes accordingly\n"
   ]
  },
  {
   "cell_type": "code",
   "execution_count": null,
   "metadata": {},
   "outputs": [],
   "source": [
    "# %%timeit\n",
    "aa = np.random.rand(12, 64)\n",
    "print('Shapes: {} Strides {}'.format(aa.shape, aa.strides))\n",
    "bb = aa.T # get_ipython().run_line_magic('timeit', 'bb = aa.T')\n",
    "print('Transposed Shapes: {} Strides {}'.format(bb.shape, bb.strides))\n",
    "assert np.shares_memory(aa, bb)"
   ]
  },
  {
   "source": [
    "# Tensorflow"
   ],
   "cell_type": "markdown",
   "metadata": {}
  },
  {
   "cell_type": "code",
   "execution_count": 322,
   "metadata": {},
   "outputs": [
    {
     "output_type": "stream",
     "name": "stdout",
     "text": [
      "[[1 2 3 4]\n",
      " [5 6 7 8]\n",
      " [9 10 11 12]]\n",
      "Model: \"sequential_19\"\n",
      "_________________________________________________________________\n",
      "Layer (type)                 Output Shape              Param #   \n",
      "=================================================================\n",
      "dense_17 (Dense)             (None, 1)                 2         \n",
      "=================================================================\n",
      "Total params: 2\n",
      "Trainable params: 2\n",
      "Non-trainable params: 0\n",
      "_________________________________________________________________\n"
     ]
    }
   ],
   "source": [
    "tf.debugging.set_log_device_placement(True)\n",
    "# with tf.device('/CPU:0'):\n",
    "tensor = tf.constant(a)\n",
    "tf.print(tensor, output_stream=sys.stdout, sep=',')\n",
    "\n",
    "model = tf.keras.models.Sequential([\n",
    "    tf.keras.layers.Dense(units=1, input_shape=[1])\n",
    "])\n",
    "model.compile(loss='mean_squared_error',\n",
    "    metrics=['accuracy'],\n",
    "    optimizer=tf.keras.optimizers.Adam(0.1) )\n",
    "model.summary()"
   ]
  },
  {
   "cell_type": "code",
   "execution_count": null,
   "metadata": {},
   "outputs": [],
   "source": []
  }
 ]
}