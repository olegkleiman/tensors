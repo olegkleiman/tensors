{
  "nbformat": 4,
  "nbformat_minor": 0,
  "metadata": {
    "colab": {
      "name": "basic.ipynb",
      "provenance": [],
      "authorship_tag": "ABX9TyNaiI+PoLFwPDGptOsOMaho",
      "include_colab_link": true
    },
    "kernelspec": {
      "name": "python3",
      "display_name": "Python 3"
    },
    "language_info": {
      "name": "python"
    },
    "accelerator": "GPU"
  },
  "cells": [
    {
      "cell_type": "markdown",
      "metadata": {
        "id": "view-in-github",
        "colab_type": "text"
      },
      "source": [
        "<a href=\"https://colab.research.google.com/github/olegkleiman/tf2/blob/master/basic.ipynb\" target=\"_parent\"><img src=\"https://colab.research.google.com/assets/colab-badge.svg\" alt=\"Open In Colab\"/></a>"
      ]
    },
    {
      "cell_type": "markdown",
      "metadata": {
        "id": "WyuLeuhNRjJ0"
      },
      "source": [
        "Example for basic ML concepts. Demonstrates using @tf.function decorator and GradientTape context "
      ]
    },
    {
      "cell_type": "code",
      "metadata": {
        "colab": {
          "base_uri": "https://localhost:8080/"
        },
        "id": "TWp1jWoYRj1T",
        "outputId": "0802210a-1345-4b95-878b-2c64cc5f6a8e"
      },
      "source": [
        "import tensorflow as tf\n",
        "config = tf.compat.v1.ConfigProto(gpu_options=tf.compat.v1.GPUOptions(allow_growth=True))\n",
        "\n",
        "print(\"TensorFlow version: \", tf.__version__)\n",
        "print(\"Num GPU Available: \", len(tf.config.experimental.list_physical_devices('GPU')))\n",
        "print(tf.test.gpu_device_name())\n",
        "# tf.debugging.set_log_device_placement(True)\n",
        "\n",
        "logdir = './logs/linreg'\n",
        "writer = tf.summary.create_file_writer(logdir)\n",
        "\n",
        "slope = 0.4\n",
        "bias = 1.5\n",
        "rows = 1000\n",
        "\n",
        "x_train = tf.random.uniform(shape=(rows,))\n",
        "perturb = tf.random.normal(shape=(len(x_train),), stddev=0.1)\n",
        "y_train = slope * x_train + bias + perturb\n",
        "\n",
        "m = tf.Variable(0.)\n",
        "b = tf.Variable(0.)\n",
        "\n",
        "\n",
        "def predict_y_value(x):\n",
        "    y = m * x + b\n",
        "    return y\n",
        "\n",
        "\n",
        "@tf.function\n",
        "def squared_error(y_pred, y_true):\n",
        "    # Being decorated with @tf.function, this function will only be parsed (on the first call) into graph.\n",
        "    # It's actually not executed.\n",
        "    # The created graph is executed instead.\n",
        "    # This graph is visualized in TensorBoard with help on tf.summary.* methods\n",
        "    return tf.reduce_mean(tf.square(y_pred - y_true))\n",
        "\n",
        "\n",
        "steps = 400\n",
        "learning_rate = 0.05\n",
        "\n",
        "# Bracket the loss function call - squared_error()- with\n",
        "# tf.summary.trace_on() and tf.summary.trace_export()\n",
        "tf.summary.trace_on(graph=True, profiler=True)\n",
        "\n",
        "with writer.as_default():\n",
        "    for epoch in range(steps):\n",
        "        with tf.GradientTape() as tape:\n",
        "            predictions = predict_y_value(x_train)\n",
        "            loss = squared_error(predictions, y_train)\n",
        "            tf.summary.scalar('loss', loss, step=epoch)\n",
        "\n",
        "        gradients = tape.gradient(loss, [m, b])\n",
        "        m.assign_sub(gradients[0] * learning_rate)\n",
        "        b.assign_sub(gradients[1] * learning_rate)\n",
        "\n",
        "    tf.summary.trace_export(name='mse_loss',\n",
        "                            step=0,\n",
        "                            profiler_outdir=logdir)\n",
        "\n",
        "print(\"m: %f, b: %f\" % (m.numpy(), b.numpy()))"
      ],
      "execution_count": 1,
      "outputs": [
        {
          "output_type": "stream",
          "text": [
            "TensorFlow version:  2.4.1\n",
            "Num GPU Available:  1\n",
            "/device:GPU:0\n",
            "WARNING:tensorflow:From /usr/local/lib/python3.7/dist-packages/tensorflow/python/ops/summary_ops_v2.py:1297: start (from tensorflow.python.eager.profiler) is deprecated and will be removed after 2020-07-01.\n",
            "Instructions for updating:\n",
            "use `tf.profiler.experimental.start` instead.\n",
            "WARNING:tensorflow:From /usr/local/lib/python3.7/dist-packages/tensorflow/python/ops/summary_ops_v2.py:1353: stop (from tensorflow.python.eager.profiler) is deprecated and will be removed after 2020-07-01.\n",
            "Instructions for updating:\n",
            "use `tf.profiler.experimental.stop` instead.\n",
            "WARNING:tensorflow:From /usr/local/lib/python3.7/dist-packages/tensorflow/python/ops/summary_ops_v2.py:1353: save (from tensorflow.python.eager.profiler) is deprecated and will be removed after 2020-07-01.\n",
            "Instructions for updating:\n",
            "`tf.python.eager.profiler` has deprecated, use `tf.profiler` instead.\n",
            "WARNING:tensorflow:From /usr/local/lib/python3.7/dist-packages/tensorflow/python/eager/profiler.py:151: maybe_create_event_file (from tensorflow.python.eager.profiler) is deprecated and will be removed after 2020-07-01.\n",
            "Instructions for updating:\n",
            "`tf.python.eager.profiler` has deprecated, use `tf.profiler` instead.\n",
            "m: 0.429805, b: 1.484098\n"
          ],
          "name": "stdout"
        }
      ]
    }
  ]
}