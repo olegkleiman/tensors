{
  "nbformat": 4,
  "nbformat_minor": 0,
  "metadata": {
    "colab": {
      "name": "multiple_linear_regression.ipynb",
      "provenance": [],
      "authorship_tag": "ABX9TyPrJVyZC/516/j8I7CWDzmo",
      "include_colab_link": true
    },
    "kernelspec": {
      "name": "python3",
      "display_name": "Python 3"
    },
    "language_info": {
      "name": "python"
    }
  },
  "cells": [
    {
      "cell_type": "markdown",
      "metadata": {
        "id": "view-in-github",
        "colab_type": "text"
      },
      "source": [
        "<a href=\"https://colab.research.google.com/github/olegkleiman/tf2/blob/master/multiple_linear_regression.ipynb\" target=\"_parent\"><img src=\"https://colab.research.google.com/assets/colab-badge.svg\" alt=\"Open In Colab\"/></a>"
      ]
    },
    {
      "cell_type": "markdown",
      "metadata": {
        "id": "VhGF9K99TMgJ"
      },
      "source": [
        "# Multiple Linear Regression for [UCI Bike Sharing Dataset](https://archive.ics.uci.edu/ml/datasets/bike+sharing+dataset#)"
      ]
    },
    {
      "cell_type": "code",
      "metadata": {
        "colab": {
          "base_uri": "https://localhost:8080/"
        },
        "id": "mO8NGguFTJMi",
        "outputId": "a87d01e1-135e-41b5-ed7f-d561b1bfa3d1"
      },
      "source": [
        "import numpy as np\n",
        "import tensorflow as tf\n",
        "print(\"TF version: {}\".format(tf.__version__))"
      ],
      "execution_count": 7,
      "outputs": [
        {
          "output_type": "stream",
          "text": [
            "TF version: 2.4.1\n"
          ],
          "name": "stdout"
        }
      ]
    },
    {
      "cell_type": "markdown",
      "metadata": {
        "id": "RAPDU-F2T6y5"
      },
      "source": [
        "Upload data from bike-sharing.csv"
      ]
    },
    {
      "cell_type": "code",
      "metadata": {
        "colab": {
          "resources": {
            "http://localhost:8080/nbextensions/google.colab/files.js": {
              "data": "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",
              "ok": true,
              "headers": [
                [
                  "content-type",
                  "application/javascript"
                ]
              ],
              "status": 200,
              "status_text": ""
            }
          },
          "base_uri": "https://localhost:8080/",
          "height": 73
        },
        "id": "6iQ7PJkYSYtR",
        "outputId": "04214c5c-18a9-476a-cbc8-502d9e7cb5df"
      },
      "source": [
        "from google.colab import files\n",
        "uploaded = files.upload()"
      ],
      "execution_count": 8,
      "outputs": [
        {
          "output_type": "display_data",
          "data": {
            "text/html": [
              "\n",
              "     <input type=\"file\" id=\"files-60d7c0f0-0c33-47a4-9492-b023549e3872\" name=\"files[]\" multiple disabled\n",
              "        style=\"border:none\" />\n",
              "     <output id=\"result-60d7c0f0-0c33-47a4-9492-b023549e3872\">\n",
              "      Upload widget is only available when the cell has been executed in the\n",
              "      current browser session. Please rerun this cell to enable.\n",
              "      </output>\n",
              "      <script src=\"/nbextensions/google.colab/files.js\"></script> "
            ],
            "text/plain": [
              "<IPython.core.display.HTML object>"
            ]
          },
          "metadata": {
            "tags": []
          }
        },
        {
          "output_type": "stream",
          "text": [
            "Saving bike-sharing.csv to bike-sharing (1).csv\n"
          ],
          "name": "stdout"
        }
      ]
    },
    {
      "cell_type": "markdown",
      "metadata": {
        "id": "f9vPuHiTY3We"
      },
      "source": [
        "## Read and clean-up the dataset"
      ]
    },
    {
      "cell_type": "code",
      "metadata": {
        "colab": {
          "base_uri": "https://localhost:8080/"
        },
        "id": "-DM9XPvpSvk6",
        "outputId": "a3f1794e-4b29-4c45-9cd7-4b4f3cd12727"
      },
      "source": [
        "x_train = np.genfromtxt('bike-sharing.csv', \n",
        "                          usecols=(2, # season (1:winter, 2:spring, 3:summer, 4:fail)\n",
        "                                   5, # holiday (0/1)\n",
        "                                   7, # workingday (0/1)\n",
        "                                   8, # weathersit 1: Clear, Few clouds\n",
        "                                      #            2: Mist + Cloudly\n",
        "                                      #            3: Light Show, Light Rain, Scattered clouds\n",
        "                                      #            4: Haevy Rain, Ice Pallets, Fog\n",
        "                                   9 # temp (normalized temterature in Celsius)\n",
        "                          ),\n",
        "                          delimiter=',', \n",
        "                          skip_header=True,\n",
        "                          autostrip=True)\n",
        "y_train= np.genfromtxt('bike-sharing.csv', \n",
        "                          usecols=(-1), # cnt - the variable to be predicted\n",
        "                          delimiter=',', \n",
        "                          skip_header=True,\n",
        "                          autostrip=True)\n",
        "y_train = y_train[np.logical_not(np.isnan(y_train))]\n",
        "y_train"
      ],
      "execution_count": 43,
      "outputs": [
        {
          "output_type": "execute_result",
          "data": {
            "text/plain": [
              "array([1263., 1162., 1406., 1421., 1248., 1204., 1000.,  683., 1650.,\n",
              "       1927., 1543.,  981.,  986., 1416., 1985.,  506.,  431., 1167.,\n",
              "       1098., 1096., 1501., 1360., 1526., 1550., 1708., 1005., 1623.,\n",
              "       1712., 1530., 1605., 1538., 1746., 1472., 1589., 1913., 1815.,\n",
              "       2115., 2475., 2927., 1635., 1812., 1107., 1450., 1917., 1807.,\n",
              "       1461., 1969., 2402., 1446., 1851., 2134., 1685., 1944., 2077.,\n",
              "        605., 1872., 2133., 1891.,  623., 1977., 2132., 2417., 2046.,\n",
              "       2056., 2192., 2744., 3239., 3117., 2471., 2077., 2703., 2121.,\n",
              "       1865., 2210., 2496., 1693., 2028., 2425., 1536., 1685., 2227.,\n",
              "       2252., 3249., 3115., 1795., 2808., 3141., 1471., 2455., 2895.,\n",
              "       3348., 2034., 2162., 3267., 3126.,  795., 3744., 3429., 3204.,\n",
              "       3944., 4189., 1683., 4036., 4191., 4073., 4400., 3872., 4058.,\n",
              "       4595., 5312., 3351., 4401., 4451., 2633., 4433., 4608., 4714.,\n",
              "       4333., 4362., 4803., 4182., 4864., 4105., 3409., 4553., 3958.,\n",
              "       4123., 3855., 4575., 4917., 5805., 4660., 4274., 4492., 4978.,\n",
              "       4677., 4679., 4758., 4788., 4098., 3982., 3974., 4968., 5312.,\n",
              "       5342., 4906., 4548., 4833., 4401., 3915., 4586., 4966., 4460.,\n",
              "       5020., 4891., 5180., 3767., 4844., 5119., 4744., 4010., 4835.,\n",
              "       4507., 4790., 4991., 5202., 5305., 4708., 4648., 5225., 5515.,\n",
              "       5362., 5119., 4649., 6043., 4665., 4629., 4592., 4040., 5336.,\n",
              "       4881., 4086., 4258., 4342., 5084., 5538., 5923., 5302., 4458.,\n",
              "       4541., 4332., 3784., 3387., 3285., 3606., 3840., 4590., 4656.,\n",
              "       4390., 3846., 4475., 4302., 4266., 4845., 3574., 4576., 4866.,\n",
              "       4294., 3785., 4326., 4602., 4780., 4792., 4905., 4150., 3820.,\n",
              "       4338., 4725., 4694., 3805., 4153., 5191., 3873., 4758., 5895.,\n",
              "       5130., 3542., 4661., 1115., 4334., 4634., 5204., 5058., 5115.,\n",
              "       4727., 4484., 4940., 3351., 2710., 1996., 1842., 3544., 5345.,\n",
              "       5046., 4713., 4763., 4785., 3659., 4760., 4511., 4274., 4539.,\n",
              "       3641., 4352., 4795., 2395., 5423., 5010., 4630., 4120., 3907.,\n",
              "       4839., 5202., 2429., 2918., 3570., 4456., 4826., 4765., 4985.,\n",
              "       5409., 5511., 5117., 4563., 2416., 2913., 3644., 5217., 5041.,\n",
              "       4570., 4748., 2424., 4195., 4304., 4308., 4381., 4187., 4687.,\n",
              "       3894., 2659., 3747.,  627., 3331., 3669., 4068., 4186., 3974.,\n",
              "       4046., 3926., 3649., 4035., 4205., 4109., 2933., 3368., 4067.,\n",
              "       3717., 4486., 4195., 1817., 3053., 3392., 3663., 3520., 2765.,\n",
              "       1607., 2566., 1495., 2792., 3068., 3071., 3867., 2914., 3613.,\n",
              "       3727., 3940., 3614., 3485., 3811., 2594.,  705., 3322., 3620.,\n",
              "       3190., 2743., 3310., 3523., 3740., 3709., 3577., 2739., 2431.,\n",
              "       3403., 3750., 2660., 3068., 2209., 1011.,  754., 1317., 1162.,\n",
              "       2302., 2423., 2999., 2485., 2294., 1951., 2236., 2368., 3272.,\n",
              "       4098., 4521., 3425., 2376., 3598., 2177., 4097., 3214., 2493.,\n",
              "       2311., 2298., 2935., 3376., 3292., 3163., 1301., 1977., 2432.,\n",
              "       4339., 4270., 4075., 3456., 4023., 3243., 3624., 4509., 4579.,\n",
              "       3761., 4151., 2832., 2947., 3784., 4375., 2802., 3830., 3831.,\n",
              "       2169., 1529., 3422., 3922., 4169., 3005., 4154., 4318., 2689.,\n",
              "       3129., 3777., 4773., 5062., 3487., 2732., 3389., 4322., 4363.,\n",
              "       1834., 4990., 3194., 4066., 3423., 3333., 3956., 4916., 5382.,\n",
              "       4569., 4118., 4911., 5298., 5847., 6312., 6192., 4378., 7836.,\n",
              "       5892., 6153., 6093., 6230., 6871., 8362., 3372., 4996., 5558.,\n",
              "       5102., 5698., 6133., 5459., 6235., 6041., 5936., 6772., 6436.,\n",
              "       6457., 6460., 6857., 5169., 5585., 5918., 4862., 5409., 6398.,\n",
              "       7460., 7132., 6370., 6691., 4367., 6565., 7290., 6624., 1027.,\n",
              "       3214., 5633., 6196., 5026., 6233., 4220., 6304., 5572., 5740.,\n",
              "       6169., 6421., 6296., 6883., 6359., 6273., 5728., 4717., 6572.,\n",
              "       7030., 7429., 6118., 2843., 5115., 7424., 7384., 7639., 8294.,\n",
              "       7129., 4359., 6073., 5260., 6770., 6734., 6536., 6591., 6043.,\n",
              "       5743., 6855., 7338., 4127., 8120., 7641., 6998., 7001., 7055.,\n",
              "       7494., 7736., 7498., 6598., 6664., 4972., 7421., 7363., 7665.,\n",
              "       7702., 6978., 5099., 6825., 6211., 5905., 5823., 7458., 6891.,\n",
              "       6779., 7442., 7335., 6879., 5463., 5687., 5531., 6227., 6660.,\n",
              "       7403., 6241., 6207., 4840., 4672., 6569., 6290., 7264., 7446.,\n",
              "       7499., 6969., 6031., 6830., 6786., 5713., 6591., 5870., 4459.,\n",
              "       7410., 6966., 7592., 8173., 6861., 6904., 6685., 6597., 7105.,\n",
              "       7216., 7580., 7261., 7175., 6824., 5464., 7013., 7273., 7534.,\n",
              "       7286., 5786., 6299., 6544., 6883., 6784., 7347., 7605., 7148.,\n",
              "       7865., 4549., 6530., 7006., 7375., 7765., 7582., 6053., 5255.,\n",
              "       6917., 7040., 7697., 7713., 7350., 6140., 5810., 6034., 6864.,\n",
              "       7112., 6203., 7504., 5976., 8227., 7525., 7767., 7870., 7804.,\n",
              "       8009., 8714., 7333., 6869., 4073., 7591., 7720., 8167., 8395.,\n",
              "       7907., 7436., 7538., 7733., 7393., 7415., 8555., 6889., 6778.,\n",
              "       4639., 7572., 7328., 8156., 7965., 3510., 5478., 6392., 7691.,\n",
              "       7570., 7282., 7109., 6639., 5875., 7534., 7461., 7509., 5424.,\n",
              "       8090., 6824., 7058., 7466., 7693., 7359., 7444., 7852., 4459.,\n",
              "         22., 1096., 5566., 5986., 5847., 5138., 5107., 5259., 5686.,\n",
              "       5035., 5315., 5992., 6536., 6852., 6269., 4094., 5495., 5445.,\n",
              "       5698., 5629., 4669., 5499., 5634., 5146., 2425., 3910., 2277.,\n",
              "       2424., 5087., 3959., 5260., 5323., 5668., 5191., 4649., 6234.,\n",
              "       6606., 5729., 5375., 5008., 5582., 3228., 5170., 5501., 5319.,\n",
              "       5532., 5611., 5047., 3786., 4585., 5557., 5267., 4128., 3623.,\n",
              "       1749., 1787.,  920., 1013.,  441., 2114., 3095., 1341., 1796.,\n",
              "       2729.])"
            ]
          },
          "metadata": {
            "tags": []
          },
          "execution_count": 43
        }
      ]
    },
    {
      "cell_type": "markdown",
      "metadata": {
        "id": "ntkasgDrUbnA"
      },
      "source": [
        "## Prepare and trian model"
      ]
    },
    {
      "cell_type": "code",
      "metadata": {
        "colab": {
          "base_uri": "https://localhost:8080/"
        },
        "id": "qYqF-6V4UrvX",
        "outputId": "a321f09c-91b1-4f11-c6cd-3e29f7a185e5"
      },
      "source": [
        "from tensorflow import keras\n",
        "\n",
        "def create_model():\n",
        "  return keras.models.Sequential([\n",
        "    keras.layers.Dense(units=1)\n",
        "])\n",
        "  \n",
        "model = create_model()\n",
        "model.compile(loss=keras.losses.mean_squared_error,\n",
        "              optimizer=keras.optimizers.SGD(),  # lr=learning_rate),\n",
        "              # optimizer=tf.keras.optimizers.Adam(0.1)\n",
        "              metrics=[tf.metrics.mean_squared_error,\n",
        "                       tf.metrics.mean_absolute_error,\n",
        "                       tf.metrics.mean_absolute_percentage_error]\n",
        "              )\n",
        "model.fit(x_train, y_train,\n",
        "          epochs=100,\n",
        "          verbose=True)"
      ],
      "execution_count": 36,
      "outputs": [
        {
          "output_type": "stream",
          "text": [
            "Epoch 1/100\n",
            "23/23 [==============================] - 0s 1ms/step - loss: nan - mean_squared_error: nan - mean_absolute_error: nan - mean_absolute_percentage_error: nan                           \n",
            "Epoch 2/100\n",
            "23/23 [==============================] - 0s 1ms/step - loss: nan - mean_squared_error: nan - mean_absolute_error: nan - mean_absolute_percentage_error: nan\n",
            "Epoch 3/100\n",
            "23/23 [==============================] - 0s 1ms/step - loss: nan - mean_squared_error: nan - mean_absolute_error: nan - mean_absolute_percentage_error: nan\n",
            "Epoch 4/100\n",
            "23/23 [==============================] - 0s 1ms/step - loss: nan - mean_squared_error: nan - mean_absolute_error: nan - mean_absolute_percentage_error: nan\n",
            "Epoch 5/100\n",
            "23/23 [==============================] - 0s 985us/step - loss: nan - mean_squared_error: nan - mean_absolute_error: nan - mean_absolute_percentage_error: nan\n",
            "Epoch 6/100\n",
            "23/23 [==============================] - 0s 1ms/step - loss: nan - mean_squared_error: nan - mean_absolute_error: nan - mean_absolute_percentage_error: nan\n",
            "Epoch 7/100\n",
            "23/23 [==============================] - 0s 1ms/step - loss: nan - mean_squared_error: nan - mean_absolute_error: nan - mean_absolute_percentage_error: nan\n",
            "Epoch 8/100\n",
            "23/23 [==============================] - 0s 1ms/step - loss: nan - mean_squared_error: nan - mean_absolute_error: nan - mean_absolute_percentage_error: nan\n",
            "Epoch 9/100\n",
            "23/23 [==============================] - 0s 2ms/step - loss: nan - mean_squared_error: nan - mean_absolute_error: nan - mean_absolute_percentage_error: nan\n",
            "Epoch 10/100\n",
            "23/23 [==============================] - 0s 1ms/step - loss: nan - mean_squared_error: nan - mean_absolute_error: nan - mean_absolute_percentage_error: nan\n",
            "Epoch 11/100\n",
            "23/23 [==============================] - 0s 1ms/step - loss: nan - mean_squared_error: nan - mean_absolute_error: nan - mean_absolute_percentage_error: nan\n",
            "Epoch 12/100\n",
            "23/23 [==============================] - 0s 1ms/step - loss: nan - mean_squared_error: nan - mean_absolute_error: nan - mean_absolute_percentage_error: nan\n",
            "Epoch 13/100\n",
            "23/23 [==============================] - 0s 1ms/step - loss: nan - mean_squared_error: nan - mean_absolute_error: nan - mean_absolute_percentage_error: nan\n",
            "Epoch 14/100\n",
            "23/23 [==============================] - 0s 1ms/step - loss: nan - mean_squared_error: nan - mean_absolute_error: nan - mean_absolute_percentage_error: nan\n",
            "Epoch 15/100\n",
            "23/23 [==============================] - 0s 1ms/step - loss: nan - mean_squared_error: nan - mean_absolute_error: nan - mean_absolute_percentage_error: nan\n",
            "Epoch 16/100\n",
            "23/23 [==============================] - 0s 1ms/step - loss: nan - mean_squared_error: nan - mean_absolute_error: nan - mean_absolute_percentage_error: nan\n",
            "Epoch 17/100\n",
            "23/23 [==============================] - 0s 1ms/step - loss: nan - mean_squared_error: nan - mean_absolute_error: nan - mean_absolute_percentage_error: nan\n",
            "Epoch 18/100\n",
            "23/23 [==============================] - 0s 1ms/step - loss: nan - mean_squared_error: nan - mean_absolute_error: nan - mean_absolute_percentage_error: nan\n",
            "Epoch 19/100\n",
            "23/23 [==============================] - 0s 1ms/step - loss: nan - mean_squared_error: nan - mean_absolute_error: nan - mean_absolute_percentage_error: nan\n",
            "Epoch 20/100\n",
            "23/23 [==============================] - 0s 1ms/step - loss: nan - mean_squared_error: nan - mean_absolute_error: nan - mean_absolute_percentage_error: nan\n",
            "Epoch 21/100\n",
            "23/23 [==============================] - 0s 1ms/step - loss: nan - mean_squared_error: nan - mean_absolute_error: nan - mean_absolute_percentage_error: nan\n",
            "Epoch 22/100\n",
            "23/23 [==============================] - 0s 1ms/step - loss: nan - mean_squared_error: nan - mean_absolute_error: nan - mean_absolute_percentage_error: nan\n",
            "Epoch 23/100\n",
            "23/23 [==============================] - 0s 2ms/step - loss: nan - mean_squared_error: nan - mean_absolute_error: nan - mean_absolute_percentage_error: nan\n",
            "Epoch 24/100\n",
            "23/23 [==============================] - 0s 1ms/step - loss: nan - mean_squared_error: nan - mean_absolute_error: nan - mean_absolute_percentage_error: nan\n",
            "Epoch 25/100\n",
            "23/23 [==============================] - 0s 1ms/step - loss: nan - mean_squared_error: nan - mean_absolute_error: nan - mean_absolute_percentage_error: nan\n",
            "Epoch 26/100\n",
            "23/23 [==============================] - 0s 1ms/step - loss: nan - mean_squared_error: nan - mean_absolute_error: nan - mean_absolute_percentage_error: nan\n",
            "Epoch 27/100\n",
            "23/23 [==============================] - 0s 1ms/step - loss: nan - mean_squared_error: nan - mean_absolute_error: nan - mean_absolute_percentage_error: nan\n",
            "Epoch 28/100\n",
            "23/23 [==============================] - 0s 1ms/step - loss: nan - mean_squared_error: nan - mean_absolute_error: nan - mean_absolute_percentage_error: nan\n",
            "Epoch 29/100\n",
            "23/23 [==============================] - 0s 1ms/step - loss: nan - mean_squared_error: nan - mean_absolute_error: nan - mean_absolute_percentage_error: nan\n",
            "Epoch 30/100\n",
            "23/23 [==============================] - 0s 1ms/step - loss: nan - mean_squared_error: nan - mean_absolute_error: nan - mean_absolute_percentage_error: nan\n",
            "Epoch 31/100\n",
            "23/23 [==============================] - 0s 1ms/step - loss: nan - mean_squared_error: nan - mean_absolute_error: nan - mean_absolute_percentage_error: nan\n",
            "Epoch 32/100\n",
            "23/23 [==============================] - 0s 1ms/step - loss: nan - mean_squared_error: nan - mean_absolute_error: nan - mean_absolute_percentage_error: nan\n",
            "Epoch 33/100\n",
            "23/23 [==============================] - 0s 1ms/step - loss: nan - mean_squared_error: nan - mean_absolute_error: nan - mean_absolute_percentage_error: nan\n",
            "Epoch 34/100\n",
            "23/23 [==============================] - 0s 1ms/step - loss: nan - mean_squared_error: nan - mean_absolute_error: nan - mean_absolute_percentage_error: nan\n",
            "Epoch 35/100\n",
            "23/23 [==============================] - 0s 1ms/step - loss: nan - mean_squared_error: nan - mean_absolute_error: nan - mean_absolute_percentage_error: nan\n",
            "Epoch 36/100\n",
            "23/23 [==============================] - 0s 1ms/step - loss: nan - mean_squared_error: nan - mean_absolute_error: nan - mean_absolute_percentage_error: nan\n",
            "Epoch 37/100\n",
            "23/23 [==============================] - 0s 1ms/step - loss: nan - mean_squared_error: nan - mean_absolute_error: nan - mean_absolute_percentage_error: nan\n",
            "Epoch 38/100\n",
            "23/23 [==============================] - 0s 1ms/step - loss: nan - mean_squared_error: nan - mean_absolute_error: nan - mean_absolute_percentage_error: nan\n",
            "Epoch 39/100\n",
            "23/23 [==============================] - 0s 2ms/step - loss: nan - mean_squared_error: nan - mean_absolute_error: nan - mean_absolute_percentage_error: nan\n",
            "Epoch 40/100\n",
            "23/23 [==============================] - 0s 1ms/step - loss: nan - mean_squared_error: nan - mean_absolute_error: nan - mean_absolute_percentage_error: nan\n",
            "Epoch 41/100\n",
            "23/23 [==============================] - 0s 1ms/step - loss: nan - mean_squared_error: nan - mean_absolute_error: nan - mean_absolute_percentage_error: nan\n",
            "Epoch 42/100\n",
            "23/23 [==============================] - 0s 1ms/step - loss: nan - mean_squared_error: nan - mean_absolute_error: nan - mean_absolute_percentage_error: nan\n",
            "Epoch 43/100\n",
            "23/23 [==============================] - 0s 1ms/step - loss: nan - mean_squared_error: nan - mean_absolute_error: nan - mean_absolute_percentage_error: nan\n",
            "Epoch 44/100\n",
            "23/23 [==============================] - 0s 1ms/step - loss: nan - mean_squared_error: nan - mean_absolute_error: nan - mean_absolute_percentage_error: nan\n",
            "Epoch 45/100\n",
            "23/23 [==============================] - 0s 1ms/step - loss: nan - mean_squared_error: nan - mean_absolute_error: nan - mean_absolute_percentage_error: nan\n",
            "Epoch 46/100\n",
            "23/23 [==============================] - 0s 1ms/step - loss: nan - mean_squared_error: nan - mean_absolute_error: nan - mean_absolute_percentage_error: nan\n",
            "Epoch 47/100\n",
            "23/23 [==============================] - 0s 1ms/step - loss: nan - mean_squared_error: nan - mean_absolute_error: nan - mean_absolute_percentage_error: nan\n",
            "Epoch 48/100\n",
            "23/23 [==============================] - 0s 2ms/step - loss: nan - mean_squared_error: nan - mean_absolute_error: nan - mean_absolute_percentage_error: nan\n",
            "Epoch 49/100\n",
            "23/23 [==============================] - 0s 1ms/step - loss: nan - mean_squared_error: nan - mean_absolute_error: nan - mean_absolute_percentage_error: nan\n",
            "Epoch 50/100\n",
            "23/23 [==============================] - 0s 1ms/step - loss: nan - mean_squared_error: nan - mean_absolute_error: nan - mean_absolute_percentage_error: nan\n",
            "Epoch 51/100\n",
            "23/23 [==============================] - 0s 2ms/step - loss: nan - mean_squared_error: nan - mean_absolute_error: nan - mean_absolute_percentage_error: nan\n",
            "Epoch 52/100\n",
            "23/23 [==============================] - 0s 1ms/step - loss: nan - mean_squared_error: nan - mean_absolute_error: nan - mean_absolute_percentage_error: nan\n",
            "Epoch 53/100\n",
            "23/23 [==============================] - 0s 1ms/step - loss: nan - mean_squared_error: nan - mean_absolute_error: nan - mean_absolute_percentage_error: nan\n",
            "Epoch 54/100\n",
            "23/23 [==============================] - 0s 1ms/step - loss: nan - mean_squared_error: nan - mean_absolute_error: nan - mean_absolute_percentage_error: nan\n",
            "Epoch 55/100\n",
            "23/23 [==============================] - 0s 1ms/step - loss: nan - mean_squared_error: nan - mean_absolute_error: nan - mean_absolute_percentage_error: nan\n",
            "Epoch 56/100\n",
            "23/23 [==============================] - 0s 1ms/step - loss: nan - mean_squared_error: nan - mean_absolute_error: nan - mean_absolute_percentage_error: nan\n",
            "Epoch 57/100\n",
            "23/23 [==============================] - 0s 1ms/step - loss: nan - mean_squared_error: nan - mean_absolute_error: nan - mean_absolute_percentage_error: nan\n",
            "Epoch 58/100\n",
            "23/23 [==============================] - 0s 1ms/step - loss: nan - mean_squared_error: nan - mean_absolute_error: nan - mean_absolute_percentage_error: nan\n",
            "Epoch 59/100\n",
            "23/23 [==============================] - 0s 1ms/step - loss: nan - mean_squared_error: nan - mean_absolute_error: nan - mean_absolute_percentage_error: nan\n",
            "Epoch 60/100\n",
            "23/23 [==============================] - 0s 1ms/step - loss: nan - mean_squared_error: nan - mean_absolute_error: nan - mean_absolute_percentage_error: nan\n",
            "Epoch 61/100\n",
            "23/23 [==============================] - 0s 1ms/step - loss: nan - mean_squared_error: nan - mean_absolute_error: nan - mean_absolute_percentage_error: nan\n",
            "Epoch 62/100\n",
            "23/23 [==============================] - 0s 1ms/step - loss: nan - mean_squared_error: nan - mean_absolute_error: nan - mean_absolute_percentage_error: nan\n",
            "Epoch 63/100\n",
            "23/23 [==============================] - 0s 1ms/step - loss: nan - mean_squared_error: nan - mean_absolute_error: nan - mean_absolute_percentage_error: nan\n",
            "Epoch 64/100\n",
            "23/23 [==============================] - 0s 1ms/step - loss: nan - mean_squared_error: nan - mean_absolute_error: nan - mean_absolute_percentage_error: nan\n",
            "Epoch 65/100\n",
            "23/23 [==============================] - 0s 1ms/step - loss: nan - mean_squared_error: nan - mean_absolute_error: nan - mean_absolute_percentage_error: nan\n",
            "Epoch 66/100\n",
            "23/23 [==============================] - 0s 2ms/step - loss: nan - mean_squared_error: nan - mean_absolute_error: nan - mean_absolute_percentage_error: nan\n",
            "Epoch 67/100\n",
            "23/23 [==============================] - 0s 1ms/step - loss: nan - mean_squared_error: nan - mean_absolute_error: nan - mean_absolute_percentage_error: nan\n",
            "Epoch 68/100\n",
            "23/23 [==============================] - 0s 1ms/step - loss: nan - mean_squared_error: nan - mean_absolute_error: nan - mean_absolute_percentage_error: nan\n",
            "Epoch 69/100\n",
            "23/23 [==============================] - 0s 1ms/step - loss: nan - mean_squared_error: nan - mean_absolute_error: nan - mean_absolute_percentage_error: nan\n",
            "Epoch 70/100\n",
            "23/23 [==============================] - 0s 1ms/step - loss: nan - mean_squared_error: nan - mean_absolute_error: nan - mean_absolute_percentage_error: nan\n",
            "Epoch 71/100\n",
            "23/23 [==============================] - 0s 1ms/step - loss: nan - mean_squared_error: nan - mean_absolute_error: nan - mean_absolute_percentage_error: nan\n",
            "Epoch 72/100\n",
            "23/23 [==============================] - 0s 1ms/step - loss: nan - mean_squared_error: nan - mean_absolute_error: nan - mean_absolute_percentage_error: nan\n",
            "Epoch 73/100\n",
            "23/23 [==============================] - 0s 1ms/step - loss: nan - mean_squared_error: nan - mean_absolute_error: nan - mean_absolute_percentage_error: nan\n",
            "Epoch 74/100\n",
            "23/23 [==============================] - 0s 1ms/step - loss: nan - mean_squared_error: nan - mean_absolute_error: nan - mean_absolute_percentage_error: nan\n",
            "Epoch 75/100\n",
            "23/23 [==============================] - 0s 1ms/step - loss: nan - mean_squared_error: nan - mean_absolute_error: nan - mean_absolute_percentage_error: nan\n",
            "Epoch 76/100\n",
            "23/23 [==============================] - 0s 2ms/step - loss: nan - mean_squared_error: nan - mean_absolute_error: nan - mean_absolute_percentage_error: nan\n",
            "Epoch 77/100\n",
            "23/23 [==============================] - 0s 1ms/step - loss: nan - mean_squared_error: nan - mean_absolute_error: nan - mean_absolute_percentage_error: nan\n",
            "Epoch 78/100\n",
            "23/23 [==============================] - 0s 1ms/step - loss: nan - mean_squared_error: nan - mean_absolute_error: nan - mean_absolute_percentage_error: nan\n",
            "Epoch 79/100\n",
            "23/23 [==============================] - 0s 1ms/step - loss: nan - mean_squared_error: nan - mean_absolute_error: nan - mean_absolute_percentage_error: nan\n",
            "Epoch 80/100\n",
            "23/23 [==============================] - 0s 1ms/step - loss: nan - mean_squared_error: nan - mean_absolute_error: nan - mean_absolute_percentage_error: nan\n",
            "Epoch 81/100\n",
            "23/23 [==============================] - 0s 1ms/step - loss: nan - mean_squared_error: nan - mean_absolute_error: nan - mean_absolute_percentage_error: nan\n",
            "Epoch 82/100\n",
            "23/23 [==============================] - 0s 1ms/step - loss: nan - mean_squared_error: nan - mean_absolute_error: nan - mean_absolute_percentage_error: nan\n",
            "Epoch 83/100\n",
            "23/23 [==============================] - 0s 1ms/step - loss: nan - mean_squared_error: nan - mean_absolute_error: nan - mean_absolute_percentage_error: nan\n",
            "Epoch 84/100\n",
            "23/23 [==============================] - 0s 2ms/step - loss: nan - mean_squared_error: nan - mean_absolute_error: nan - mean_absolute_percentage_error: nan\n",
            "Epoch 85/100\n",
            "23/23 [==============================] - 0s 1ms/step - loss: nan - mean_squared_error: nan - mean_absolute_error: nan - mean_absolute_percentage_error: nan\n",
            "Epoch 86/100\n",
            "23/23 [==============================] - 0s 1ms/step - loss: nan - mean_squared_error: nan - mean_absolute_error: nan - mean_absolute_percentage_error: nan\n",
            "Epoch 87/100\n",
            "23/23 [==============================] - 0s 1ms/step - loss: nan - mean_squared_error: nan - mean_absolute_error: nan - mean_absolute_percentage_error: nan\n",
            "Epoch 88/100\n",
            "23/23 [==============================] - 0s 1ms/step - loss: nan - mean_squared_error: nan - mean_absolute_error: nan - mean_absolute_percentage_error: nan\n",
            "Epoch 89/100\n",
            "23/23 [==============================] - 0s 1ms/step - loss: nan - mean_squared_error: nan - mean_absolute_error: nan - mean_absolute_percentage_error: nan\n",
            "Epoch 90/100\n",
            "23/23 [==============================] - 0s 1ms/step - loss: nan - mean_squared_error: nan - mean_absolute_error: nan - mean_absolute_percentage_error: nan\n",
            "Epoch 91/100\n",
            "23/23 [==============================] - 0s 1ms/step - loss: nan - mean_squared_error: nan - mean_absolute_error: nan - mean_absolute_percentage_error: nan\n",
            "Epoch 92/100\n",
            "23/23 [==============================] - 0s 1ms/step - loss: nan - mean_squared_error: nan - mean_absolute_error: nan - mean_absolute_percentage_error: nan\n",
            "Epoch 93/100\n",
            "23/23 [==============================] - 0s 1ms/step - loss: nan - mean_squared_error: nan - mean_absolute_error: nan - mean_absolute_percentage_error: nan\n",
            "Epoch 94/100\n",
            "23/23 [==============================] - 0s 1ms/step - loss: nan - mean_squared_error: nan - mean_absolute_error: nan - mean_absolute_percentage_error: nan\n",
            "Epoch 95/100\n",
            "23/23 [==============================] - 0s 1ms/step - loss: nan - mean_squared_error: nan - mean_absolute_error: nan - mean_absolute_percentage_error: nan\n",
            "Epoch 96/100\n",
            "23/23 [==============================] - 0s 1ms/step - loss: nan - mean_squared_error: nan - mean_absolute_error: nan - mean_absolute_percentage_error: nan\n",
            "Epoch 97/100\n",
            "23/23 [==============================] - 0s 1ms/step - loss: nan - mean_squared_error: nan - mean_absolute_error: nan - mean_absolute_percentage_error: nan\n",
            "Epoch 98/100\n",
            "23/23 [==============================] - 0s 1ms/step - loss: nan - mean_squared_error: nan - mean_absolute_error: nan - mean_absolute_percentage_error: nan\n",
            "Epoch 99/100\n",
            "23/23 [==============================] - 0s 1ms/step - loss: nan - mean_squared_error: nan - mean_absolute_error: nan - mean_absolute_percentage_error: nan\n",
            "Epoch 100/100\n",
            "23/23 [==============================] - 0s 1ms/step - loss: nan - mean_squared_error: nan - mean_absolute_error: nan - mean_absolute_percentage_error: nan\n"
          ],
          "name": "stdout"
        },
        {
          "output_type": "execute_result",
          "data": {
            "text/plain": [
              "<tensorflow.python.keras.callbacks.History at 0x7f31dcdcc690>"
            ]
          },
          "metadata": {
            "tags": []
          },
          "execution_count": 36
        }
      ]
    }
  ]
}