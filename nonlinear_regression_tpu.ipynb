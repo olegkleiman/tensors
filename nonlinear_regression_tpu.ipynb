{
  "nbformat": 4,
  "nbformat_minor": 0,
  "metadata": {
    "colab": {
      "name": "nonlinear_regression_tpu.ipynb",
      "provenance": [],
      "collapsed_sections": [],
      "authorship_tag": "ABX9TyNd7QW8knOwXuRr46IYDv+Y",
      "include_colab_link": true
    },
    "kernelspec": {
      "name": "python3",
      "display_name": "Python 3"
    },
    "accelerator": "TPU"
  },
  "cells": [
    {
      "cell_type": "markdown",
      "metadata": {
        "id": "view-in-github",
        "colab_type": "text"
      },
      "source": [
        "<a href=\"https://colab.research.google.com/github/olegkleiman/tf2/blob/master/nonlinear_regression_tpu.ipynb\" target=\"_parent\"><img src=\"https://colab.research.google.com/assets/colab-badge.svg\" alt=\"Open In Colab\"/></a>"
      ]
    },
    {
      "cell_type": "markdown",
      "metadata": {
        "id": "V8SFiCoorxip"
      },
      "source": [
        "## Non-linear regression based with Keras and TensorFlow TPU for [BoxBOD](https://www.itl.nist.gov/div898/strd/nls/data/boxbod.shtml) MNIST dataset "
      ]
    },
    {
      "cell_type": "code",
      "metadata": {
        "colab": {
          "base_uri": "https://localhost:8080/"
        },
        "id": "4J0m3gv38Nj6",
        "outputId": "1f7bcdd0-c684-41b9-d95b-135774140149"
      },
      "source": [
        "!pip install -U pip install -U tensorboard_plugin_profile==2.3.0"
      ],
      "execution_count": 74,
      "outputs": [
        {
          "output_type": "stream",
          "text": [
            "Collecting pip\n",
            "\u001b[?25l  Downloading https://files.pythonhosted.org/packages/fe/ef/60d7ba03b5c442309ef42e7d69959f73aacccd0d86008362a681c4698e83/pip-21.0.1-py3-none-any.whl (1.5MB)\n",
            "\u001b[K     |████████████████████████████████| 1.5MB 6.8MB/s \n",
            "\u001b[?25hCollecting install\n",
            "  Downloading https://files.pythonhosted.org/packages/f0/a5/fd2eb807a9a593869ee8b7a6bcb4ad84a6eb31cef5c24d1bfbf7c938c13f/install-1.3.4-py3-none-any.whl\n",
            "Collecting tensorboard_plugin_profile==2.3.0\n",
            "\u001b[?25l  Downloading https://files.pythonhosted.org/packages/20/03/f4360c57a78c78fad63823b0abe65e589e98ec40ce9e41c549d46efcba75/tensorboard_plugin_profile-2.3.0-py3-none-any.whl (1.1MB)\n",
            "\u001b[K     |████████████████████████████████| 1.1MB 13.2MB/s \n",
            "\u001b[?25hRequirement already satisfied, skipping upgrade: setuptools>=41.0.0 in /usr/local/lib/python3.7/dist-packages (from tensorboard_plugin_profile==2.3.0) (54.0.0)\n",
            "Requirement already satisfied, skipping upgrade: protobuf>=3.6.0 in /usr/local/lib/python3.7/dist-packages (from tensorboard_plugin_profile==2.3.0) (3.12.4)\n",
            "Collecting gviz-api>=1.9.0\n",
            "  Downloading https://files.pythonhosted.org/packages/8c/8f/c6f16235a16b3dc4efdcf34dbc93b3b6f678b88176dbd6a36c75d678888f/gviz_api-1.9.0-py2.py3-none-any.whl\n",
            "Requirement already satisfied, skipping upgrade: six>=1.10.0 in /usr/local/lib/python3.7/dist-packages (from tensorboard_plugin_profile==2.3.0) (1.15.0)\n",
            "Requirement already satisfied, skipping upgrade: werkzeug>=0.11.15 in /usr/local/lib/python3.7/dist-packages (from tensorboard_plugin_profile==2.3.0) (1.0.1)\n",
            "Installing collected packages: pip, install, gviz-api, tensorboard-plugin-profile\n",
            "  Found existing installation: pip 19.3.1\n",
            "    Uninstalling pip-19.3.1:\n",
            "      Successfully uninstalled pip-19.3.1\n",
            "Successfully installed gviz-api-1.9.0 install-1.3.4 pip-21.0.1 tensorboard-plugin-profile-2.3.0\n"
          ],
          "name": "stdout"
        }
      ]
    },
    {
      "cell_type": "markdown",
      "metadata": {
        "id": "pBEB1jFyui96"
      },
      "source": [
        "Initialize TensorFlow and check the local devices"
      ]
    },
    {
      "cell_type": "code",
      "metadata": {
        "colab": {
          "base_uri": "https://localhost:8080/"
        },
        "id": "mu_dtNkZrsL5",
        "outputId": "6d36c697-f218-494a-ad83-b2c15940785c"
      },
      "source": [
        "%tensorflow_version 2.x\r\n",
        "import tensorflow as tf\r\n",
        "from tensorflow.python.client import device_lib\r\n",
        "import os\r\n",
        "\r\n",
        "print(\"TF version: {}\".format(tf.__version__))\r\n",
        "print(\"Local device: \", device_lib.list_local_devices())"
      ],
      "execution_count": 82,
      "outputs": [
        {
          "output_type": "stream",
          "text": [
            "TF version: 2.4.1\n",
            "Local device:  [name: \"/device:CPU:0\"\n",
            "device_type: \"CPU\"\n",
            "memory_limit: 268435456\n",
            "locality {\n",
            "}\n",
            "incarnation: 10817345899506669480\n",
            "]\n"
          ],
          "name": "stdout"
        }
      ]
    },
    {
      "cell_type": "markdown",
      "metadata": {
        "id": "mJqkfDsarK9d"
      },
      "source": [
        "Now switch to TPU System"
      ]
    },
    {
      "cell_type": "code",
      "metadata": {
        "colab": {
          "base_uri": "https://localhost:8080/"
        },
        "id": "5cuGQZgarSlx",
        "outputId": "74dfcb4c-8192-49c7-c5de-af57f34cefc5"
      },
      "source": [
        "resolver = tf.distribute.cluster_resolver.TPUClusterResolver(tpu='grpc://' + os.environ['COLAB_TPU_ADDR'])\r\n",
        "tf.config.experimental_connect_to_cluster(resolver)\r\n",
        "\r\n",
        "# This is the TPU initialization code that has to be at the beginning.\r\n",
        "tf.tpu.experimental.initialize_tpu_system(resolver)\r\n",
        "print(\"All devices: \", tf.config.list_logical_devices('TPU'))\r\n",
        "\r\n",
        "tpu_strategy = tf.distribute.TPUStrategy(resolver)"
      ],
      "execution_count": 80,
      "outputs": [
        {
          "output_type": "stream",
          "text": [
            "WARNING:tensorflow:TPU system grpc://10.82.5.186:8470 has already been initialized. Reinitializing the TPU can cause previously created variables on TPU to be lost.\n"
          ],
          "name": "stdout"
        },
        {
          "output_type": "stream",
          "text": [
            "WARNING:tensorflow:TPU system grpc://10.82.5.186:8470 has already been initialized. Reinitializing the TPU can cause previously created variables on TPU to be lost.\n"
          ],
          "name": "stderr"
        },
        {
          "output_type": "stream",
          "text": [
            "INFO:tensorflow:Initializing the TPU system: grpc://10.82.5.186:8470\n"
          ],
          "name": "stdout"
        },
        {
          "output_type": "stream",
          "text": [
            "INFO:tensorflow:Initializing the TPU system: grpc://10.82.5.186:8470\n"
          ],
          "name": "stderr"
        },
        {
          "output_type": "stream",
          "text": [
            "INFO:tensorflow:Clearing out eager caches\n"
          ],
          "name": "stdout"
        },
        {
          "output_type": "stream",
          "text": [
            "INFO:tensorflow:Clearing out eager caches\n"
          ],
          "name": "stderr"
        },
        {
          "output_type": "stream",
          "text": [
            "INFO:tensorflow:Finished initializing TPU system.\n"
          ],
          "name": "stdout"
        },
        {
          "output_type": "stream",
          "text": [
            "INFO:tensorflow:Finished initializing TPU system.\n"
          ],
          "name": "stderr"
        },
        {
          "output_type": "stream",
          "text": [
            "All devices:  [LogicalDevice(name='/job:worker/replica:0/task:0/device:TPU:7', device_type='TPU'), LogicalDevice(name='/job:worker/replica:0/task:0/device:TPU:6', device_type='TPU'), LogicalDevice(name='/job:worker/replica:0/task:0/device:TPU:5', device_type='TPU'), LogicalDevice(name='/job:worker/replica:0/task:0/device:TPU:4', device_type='TPU'), LogicalDevice(name='/job:worker/replica:0/task:0/device:TPU:3', device_type='TPU'), LogicalDevice(name='/job:worker/replica:0/task:0/device:TPU:0', device_type='TPU'), LogicalDevice(name='/job:worker/replica:0/task:0/device:TPU:1', device_type='TPU'), LogicalDevice(name='/job:worker/replica:0/task:0/device:TPU:2', device_type='TPU')]\n",
            "INFO:tensorflow:Found TPU system:\n"
          ],
          "name": "stdout"
        },
        {
          "output_type": "stream",
          "text": [
            "INFO:tensorflow:Found TPU system:\n"
          ],
          "name": "stderr"
        },
        {
          "output_type": "stream",
          "text": [
            "INFO:tensorflow:*** Num TPU Cores: 8\n"
          ],
          "name": "stdout"
        },
        {
          "output_type": "stream",
          "text": [
            "INFO:tensorflow:*** Num TPU Cores: 8\n"
          ],
          "name": "stderr"
        },
        {
          "output_type": "stream",
          "text": [
            "INFO:tensorflow:*** Num TPU Workers: 1\n"
          ],
          "name": "stdout"
        },
        {
          "output_type": "stream",
          "text": [
            "INFO:tensorflow:*** Num TPU Workers: 1\n"
          ],
          "name": "stderr"
        },
        {
          "output_type": "stream",
          "text": [
            "INFO:tensorflow:*** Num TPU Cores Per Worker: 8\n"
          ],
          "name": "stdout"
        },
        {
          "output_type": "stream",
          "text": [
            "INFO:tensorflow:*** Num TPU Cores Per Worker: 8\n"
          ],
          "name": "stderr"
        },
        {
          "output_type": "stream",
          "text": [
            "INFO:tensorflow:*** Available Device: _DeviceAttributes(/job:localhost/replica:0/task:0/device:CPU:0, CPU, 0, 0)\n"
          ],
          "name": "stdout"
        },
        {
          "output_type": "stream",
          "text": [
            "INFO:tensorflow:*** Available Device: _DeviceAttributes(/job:localhost/replica:0/task:0/device:CPU:0, CPU, 0, 0)\n"
          ],
          "name": "stderr"
        },
        {
          "output_type": "stream",
          "text": [
            "INFO:tensorflow:*** Available Device: _DeviceAttributes(/job:worker/replica:0/task:0/device:CPU:0, CPU, 0, 0)\n"
          ],
          "name": "stdout"
        },
        {
          "output_type": "stream",
          "text": [
            "INFO:tensorflow:*** Available Device: _DeviceAttributes(/job:worker/replica:0/task:0/device:CPU:0, CPU, 0, 0)\n"
          ],
          "name": "stderr"
        },
        {
          "output_type": "stream",
          "text": [
            "INFO:tensorflow:*** Available Device: _DeviceAttributes(/job:worker/replica:0/task:0/device:TPU:0, TPU, 0, 0)\n"
          ],
          "name": "stdout"
        },
        {
          "output_type": "stream",
          "text": [
            "INFO:tensorflow:*** Available Device: _DeviceAttributes(/job:worker/replica:0/task:0/device:TPU:0, TPU, 0, 0)\n"
          ],
          "name": "stderr"
        },
        {
          "output_type": "stream",
          "text": [
            "INFO:tensorflow:*** Available Device: _DeviceAttributes(/job:worker/replica:0/task:0/device:TPU:1, TPU, 0, 0)\n"
          ],
          "name": "stdout"
        },
        {
          "output_type": "stream",
          "text": [
            "INFO:tensorflow:*** Available Device: _DeviceAttributes(/job:worker/replica:0/task:0/device:TPU:1, TPU, 0, 0)\n"
          ],
          "name": "stderr"
        },
        {
          "output_type": "stream",
          "text": [
            "INFO:tensorflow:*** Available Device: _DeviceAttributes(/job:worker/replica:0/task:0/device:TPU:2, TPU, 0, 0)\n"
          ],
          "name": "stdout"
        },
        {
          "output_type": "stream",
          "text": [
            "INFO:tensorflow:*** Available Device: _DeviceAttributes(/job:worker/replica:0/task:0/device:TPU:2, TPU, 0, 0)\n"
          ],
          "name": "stderr"
        },
        {
          "output_type": "stream",
          "text": [
            "INFO:tensorflow:*** Available Device: _DeviceAttributes(/job:worker/replica:0/task:0/device:TPU:3, TPU, 0, 0)\n"
          ],
          "name": "stdout"
        },
        {
          "output_type": "stream",
          "text": [
            "INFO:tensorflow:*** Available Device: _DeviceAttributes(/job:worker/replica:0/task:0/device:TPU:3, TPU, 0, 0)\n"
          ],
          "name": "stderr"
        },
        {
          "output_type": "stream",
          "text": [
            "INFO:tensorflow:*** Available Device: _DeviceAttributes(/job:worker/replica:0/task:0/device:TPU:4, TPU, 0, 0)\n"
          ],
          "name": "stdout"
        },
        {
          "output_type": "stream",
          "text": [
            "INFO:tensorflow:*** Available Device: _DeviceAttributes(/job:worker/replica:0/task:0/device:TPU:4, TPU, 0, 0)\n"
          ],
          "name": "stderr"
        },
        {
          "output_type": "stream",
          "text": [
            "INFO:tensorflow:*** Available Device: _DeviceAttributes(/job:worker/replica:0/task:0/device:TPU:5, TPU, 0, 0)\n"
          ],
          "name": "stdout"
        },
        {
          "output_type": "stream",
          "text": [
            "INFO:tensorflow:*** Available Device: _DeviceAttributes(/job:worker/replica:0/task:0/device:TPU:5, TPU, 0, 0)\n"
          ],
          "name": "stderr"
        },
        {
          "output_type": "stream",
          "text": [
            "INFO:tensorflow:*** Available Device: _DeviceAttributes(/job:worker/replica:0/task:0/device:TPU:6, TPU, 0, 0)\n"
          ],
          "name": "stdout"
        },
        {
          "output_type": "stream",
          "text": [
            "INFO:tensorflow:*** Available Device: _DeviceAttributes(/job:worker/replica:0/task:0/device:TPU:6, TPU, 0, 0)\n"
          ],
          "name": "stderr"
        },
        {
          "output_type": "stream",
          "text": [
            "INFO:tensorflow:*** Available Device: _DeviceAttributes(/job:worker/replica:0/task:0/device:TPU:7, TPU, 0, 0)\n"
          ],
          "name": "stdout"
        },
        {
          "output_type": "stream",
          "text": [
            "INFO:tensorflow:*** Available Device: _DeviceAttributes(/job:worker/replica:0/task:0/device:TPU:7, TPU, 0, 0)\n"
          ],
          "name": "stderr"
        },
        {
          "output_type": "stream",
          "text": [
            "INFO:tensorflow:*** Available Device: _DeviceAttributes(/job:worker/replica:0/task:0/device:TPU_SYSTEM:0, TPU_SYSTEM, 0, 0)\n"
          ],
          "name": "stdout"
        },
        {
          "output_type": "stream",
          "text": [
            "INFO:tensorflow:*** Available Device: _DeviceAttributes(/job:worker/replica:0/task:0/device:TPU_SYSTEM:0, TPU_SYSTEM, 0, 0)\n"
          ],
          "name": "stderr"
        },
        {
          "output_type": "stream",
          "text": [
            "INFO:tensorflow:*** Available Device: _DeviceAttributes(/job:worker/replica:0/task:0/device:XLA_CPU:0, XLA_CPU, 0, 0)\n"
          ],
          "name": "stdout"
        },
        {
          "output_type": "stream",
          "text": [
            "INFO:tensorflow:*** Available Device: _DeviceAttributes(/job:worker/replica:0/task:0/device:XLA_CPU:0, XLA_CPU, 0, 0)\n"
          ],
          "name": "stderr"
        }
      ]
    },
    {
      "cell_type": "markdown",
      "metadata": {
        "id": "oJ9jOQh_tCzq"
      },
      "source": [
        "## Prepare the data"
      ]
    },
    {
      "cell_type": "code",
      "metadata": {
        "id": "DpLnRj4ftAwV"
      },
      "source": [
        "DATASET_SIZE = 100\r\n",
        "x = tf.random.uniform(shape=(DATASET_SIZE,), minval=0., maxval=1.0) * 10\r\n",
        "perturb = tf.random.normal(shape=(len(x), ), stddev=0.01)\r\n",
        "beta1 = 1.1\r\n",
        "beta2 = 1.1\r\n",
        "\r\n",
        "y = beta1 * (1 - tf.exp(-beta2 * x)) + perturb\r\n",
        "\r\n",
        "train_size = int(0.7 * DATASET_SIZE)\r\n",
        "\r\n",
        "# TODO: split into train and test sub-sets\r\n",
        "x_train = x\r\n",
        "y_train = y\r\n",
        "# y_train = y[:, 1:2]"
      ],
      "execution_count": 78,
      "outputs": []
    },
    {
      "cell_type": "code",
      "metadata": {
        "colab": {
          "base_uri": "https://localhost:8080/",
          "height": 265
        },
        "id": "BRb8Umsrqefi",
        "outputId": "28af2681-5453-49c0-b0c9-a1fa6c78b67f"
      },
      "source": [
        "import numpy as np\r\n",
        "import matplotlib.pyplot as plt\r\n",
        "%matplotlib inline\r\n",
        "\r\n",
        "plt.scatter(x_train, y_train)\r\n",
        "plt.show()\r\n",
        "\r\n"
      ],
      "execution_count": 79,
      "outputs": [
        {
          "output_type": "display_data",
          "data": {
            "image/png": "[encoded data removed]",
            "text/plain": [
              "<Figure size 432x288 with 1 Axes>"
            ]
          },
          "metadata": {
            "tags": [],
            "needs_background": "light"
          }
        }
      ]
    },
    {
      "cell_type": "markdown",
      "metadata": {
        "id": "CLuUz6fPxvv1"
      },
      "source": [
        "## Prepare and train the model"
      ]
    },
    {
      "cell_type": "code",
      "metadata": {
        "colab": {
          "base_uri": "https://localhost:8080/"
        },
        "id": "pZ3a0kIMxzCd",
        "outputId": "6d9c14f2-7ce4-4534-abe3-09380ccd8456"
      },
      "source": [
        "from tensorflow import keras\r\n",
        "import datetime as datetime\r\n",
        "\r\n",
        "class KerasModel(tf.keras.Model):\r\n",
        "  def __init__(self):\r\n",
        "    super(KerasModel, self).__init__()\r\n",
        "    self.dense1 = keras.layers.Dense(50, input_dim=1, activation=tf.nn.relu)\r\n",
        "    self.dense2 = keras.layers.Dense(100, kernel_initializer=\"glorot_uniform\", activation=tf.nn.relu)\r\n",
        "    self.dense3 = keras.layers.Dense(1, kernel_initializer=\"glorot_uniform\", activation=None)\r\n",
        "\r\n",
        "  def call(self, inputs):\r\n",
        "    x = self.dense1(inputs)\r\n",
        "    x = self.dense2(x)\r\n",
        "    return self.dense3(x)\r\n",
        "\r\n",
        "logdir = os.path.join(\"logs\", datetime.datetime.now().strftime(\"%Y%m%d-%H%M%S\"))\r\n",
        "tensorboard_callback = keras.callbacks.TensorBoard(logdir, histogram_freq=1)\r\n",
        "early_stopping_callback = keras.callbacks.EarlyStopping(monitor='loss', \r\n",
        "                                                        min_delta=1.2e-4,\r\n",
        "                                                        patience=6, \r\n",
        "                                                        verbose=True)\r\n",
        "with tpu_strategy.scope(): # creating the model in the TPUStrategy scope means we will train the model on the TPU\r\n",
        "  model = KerasModel()\r\n",
        "  model.compile(loss=keras.losses.mean_squared_error,\r\n",
        "                steps_per_execution = 50,\r\n",
        "                optimizer=keras.optimizers.Adam())\r\n",
        "  model.fit(x_train, y_train, \r\n",
        "            epochs=1000, \r\n",
        "            batch_size=100,\r\n",
        "            verbose=True,\r\n",
        "            callbacks=[early_stopping_callback])\r\n",
        "model.summary()"
      ],
      "execution_count": 81,
      "outputs": [
        {
          "output_type": "stream",
          "text": [
            "Epoch 1/1000\n",
            "1/1 [==============================] - 3s 3s/step - loss: 6.4219\n",
            "Epoch 2/1000\n",
            "1/1 [==============================] - 0s 17ms/step - loss: 5.3490\n",
            "Epoch 3/1000\n",
            "1/1 [==============================] - 0s 18ms/step - loss: 4.3970\n",
            "Epoch 4/1000\n",
            "1/1 [==============================] - 0s 18ms/step - loss: 3.5693\n",
            "Epoch 5/1000\n",
            "1/1 [==============================] - 0s 18ms/step - loss: 2.8319\n",
            "Epoch 6/1000\n",
            "1/1 [==============================] - 0s 22ms/step - loss: 2.1991\n",
            "Epoch 7/1000\n",
            "1/1 [==============================] - 0s 18ms/step - loss: 1.6687\n",
            "Epoch 8/1000\n",
            "1/1 [==============================] - 0s 19ms/step - loss: 1.2257\n",
            "Epoch 9/1000\n",
            "1/1 [==============================] - 0s 16ms/step - loss: 0.8667\n",
            "Epoch 10/1000\n",
            "1/1 [==============================] - 0s 18ms/step - loss: 0.5863\n",
            "Epoch 11/1000\n",
            "1/1 [==============================] - 0s 15ms/step - loss: 0.3785\n",
            "Epoch 12/1000\n",
            "1/1 [==============================] - 0s 22ms/step - loss: 0.2393\n",
            "Epoch 13/1000\n",
            "1/1 [==============================] - 0s 17ms/step - loss: 0.1604\n",
            "Epoch 14/1000\n",
            "1/1 [==============================] - 0s 15ms/step - loss: 0.1286\n",
            "Epoch 15/1000\n",
            "1/1 [==============================] - 0s 19ms/step - loss: 0.1341\n",
            "Epoch 16/1000\n",
            "1/1 [==============================] - 0s 20ms/step - loss: 0.1657\n",
            "Epoch 17/1000\n",
            "1/1 [==============================] - 0s 20ms/step - loss: 0.2158\n",
            "Epoch 18/1000\n",
            "1/1 [==============================] - 0s 17ms/step - loss: 0.2716\n",
            "Epoch 19/1000\n",
            "1/1 [==============================] - 0s 23ms/step - loss: 0.3212\n",
            "Epoch 20/1000\n",
            "1/1 [==============================] - 0s 16ms/step - loss: 0.3641\n",
            "Epoch 00020: early stopping\n",
            "Model: \"keras_model_21\"\n",
            "_________________________________________________________________\n",
            "Layer (type)                 Output Shape              Param #   \n",
            "=================================================================\n",
            "dense_75 (Dense)             multiple                  100       \n",
            "_________________________________________________________________\n",
            "dense_76 (Dense)             multiple                  5100      \n",
            "_________________________________________________________________\n",
            "dense_77 (Dense)             multiple                  101       \n",
            "=================================================================\n",
            "Total params: 5,301\n",
            "Trainable params: 5,301\n",
            "Non-trainable params: 0\n",
            "_________________________________________________________________\n"
          ],
          "name": "stdout"
        }
      ]
    },
    {
      "cell_type": "markdown",
      "metadata": {
        "id": "cxEvvj-Y08aF"
      },
      "source": [
        "Make the predictions and show the chart visualization"
      ]
    },
    {
      "cell_type": "code",
      "metadata": {
        "colab": {
          "base_uri": "https://localhost:8080/",
          "height": 335
        },
        "id": "LPXJVuuU1Ez3",
        "outputId": "3ea9233d-1bea-45e7-deb7-36cefda6dad8"
      },
      "source": [
        "y_predicted = model.predict(x_train)\r\n",
        "\r\n",
        "plt.scatter(x_train, y_predicted)"
      ],
      "execution_count": 70,
      "outputs": [
        {
          "output_type": "stream",
          "text": [
            "WARNING:tensorflow:6 out of the last 8 calls to <function Model.make_predict_function.<locals>.predict_function at 0x7f31de3ee7a0> triggered tf.function retracing. Tracing is expensive and the excessive number of tracings could be due to (1) creating @tf.function repeatedly in a loop, (2) passing tensors with different shapes, (3) passing Python objects instead of tensors. For (1), please define your @tf.function outside of the loop. For (2), @tf.function has experimental_relax_shapes=True option that relaxes argument shapes that can avoid unnecessary retracing. For (3), please refer to https://www.tensorflow.org/guide/function#controlling_retracing and https://www.tensorflow.org/api_docs/python/tf/function for  more details.\n"
          ],
          "name": "stdout"
        },
        {
          "output_type": "stream",
          "text": [
            "WARNING:tensorflow:6 out of the last 8 calls to <function Model.make_predict_function.<locals>.predict_function at 0x7f31de3ee7a0> triggered tf.function retracing. Tracing is expensive and the excessive number of tracings could be due to (1) creating @tf.function repeatedly in a loop, (2) passing tensors with different shapes, (3) passing Python objects instead of tensors. For (1), please define your @tf.function outside of the loop. For (2), @tf.function has experimental_relax_shapes=True option that relaxes argument shapes that can avoid unnecessary retracing. For (3), please refer to https://www.tensorflow.org/guide/function#controlling_retracing and https://www.tensorflow.org/api_docs/python/tf/function for  more details.\n"
          ],
          "name": "stderr"
        },
        {
          "output_type": "execute_result",
          "data": {
            "text/plain": [
              "<matplotlib.collections.PathCollection at 0x7f31de1433d0>"
            ]
          },
          "metadata": {
            "tags": []
          },
          "execution_count": 70
        },
        {
          "output_type": "display_data",
          "data": {
            "image/png": "[encoded data removed]",
            "text/plain": [
              "<Figure size 432x288 with 1 Axes>"
            ]
          },
          "metadata": {
            "tags": [],
            "needs_background": "light"
          }
        }
      ]
    }
  ]
}