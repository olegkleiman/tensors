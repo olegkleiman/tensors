{
  "nbformat": 4,
  "nbformat_minor": 0,
  "metadata": {
    "colab": {
      "name": "Untitled0.ipynb",
      "provenance": [],
      "collapsed_sections": [],
      "authorship_tag": "ABX9TyPRne574klWglQaO6BLM3/A",
      "include_colab_link": true
    },
    "kernelspec": {
      "name": "python3",
      "display_name": "Python 3"
    }
  },
  "cells": [
    {
      "cell_type": "markdown",
      "metadata": {
        "id": "view-in-github",
        "colab_type": "text"
      },
      "source": [
        "<a href=\"https://colab.research.google.com/github/olegkleiman/tf2/blob/master/colab_hint1.ipynb\" target=\"_parent\"><img src=\"https://colab.research.google.com/assets/colab-badge.svg\" alt=\"Open In Colab\"/></a>"
      ]
    },
    {
      "cell_type": "code",
      "metadata": {
        "colab": {
          "base_uri": "https://localhost:8080/"
        },
        "id": "_XXmPUTSCzPw",
        "outputId": "5e70499e-6c4f-4f59-de8a-e87db8600fc5"
      },
      "source": [
        "import tensorflow as tf\n",
        "print(\"TF version: {}\".format(tf.__version__))\n",
        "print(\"GPU Available: \", len(tf.config.experimental.list_physical_devices('GPU')))\n",
        "print(tf.test.gpu_device_name())"
      ],
      "execution_count": 6,
      "outputs": [
        {
          "output_type": "stream",
          "text": [
            "TF version: 2.4.1\n",
            "GPU Available:  0\n",
            "\n"
          ],
          "name": "stdout"
        }
      ]
    }
  ]
}