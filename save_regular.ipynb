{
  "nbformat": 4,
  "nbformat_minor": 0,
  "metadata": {
    "colab": {
      "name": "save_regular.ipynb",
      "provenance": [],
      "authorship_tag": "ABX9TyPc2GWiXgRNNpwhEX6FFZRH",
      "include_colab_link": true
    },
    "kernelspec": {
      "name": "python3",
      "display_name": "Python 3"
    },
    "language_info": {
      "name": "python"
    }
  },
  "cells": [
    {
      "cell_type": "markdown",
      "metadata": {
        "id": "view-in-github",
        "colab_type": "text"
      },
      "source": [
        "<a href=\"https://colab.research.google.com/github/olegkleiman/tf2/blob/master/save_regular.ipynb\" target=\"_parent\"><img src=\"https://colab.research.google.com/assets/colab-badge.svg\" alt=\"Open In Colab\"/></a>"
      ]
    },
    {
      "cell_type": "code",
      "metadata": {
        "colab": {
          "base_uri": "https://localhost:8080/"
        },
        "id": "_YSM43YbUZNR",
        "outputId": "3775b183-37c8-40b5-8b2e-988762738876"
      },
      "source": [
        "import tensorflow as tf\n",
        "\n",
        "print(\"TF version:\", tf.__version__)\n",
        "\n",
        "\n",
        "class Wrapper(tf.Module):\n",
        "\n",
        "    @tf.function(input_signature=[tf.TensorSpec(shape=(), dtype=tf.float32),\n",
        "                                  tf.TensorSpec(shape=None, dtype=tf.float32)])\n",
        "    def __call__(self, x, y):\n",
        "        return tf.math.pow(x, y)\n",
        "\n",
        "\n",
        "model = Wrapper()\n",
        "result = model(x=5.0, y=3.0)\n",
        "print(\"Result before save: \", result)\n",
        "saved_model_dir = './saved/pow/1'\n",
        "tf.saved_model.save(model, saved_model_dir)\n",
        "\n",
        "loaded_model = tf.saved_model.load(saved_model_dir)\n",
        "print(loaded_model.signatures)\n",
        "\n",
        "result = loaded_model(x=5.0, y=3.0)\n",
        "print(\"Result after reload: \", result)\n",
        "\n",
        "# concrete_func = model.__call__.get_concrete_function()\n",
        "\n",
        "converter = tf.lite.TFLiteConverter.from_saved_model(saved_model_dir)\n",
        "tflite_model = converter.convert()\n",
        "\n",
        "# Save the TF Lite model.\n",
        "with open('./model.tflite', 'wb') as f:\n",
        "    f.write(tflite_model)"
      ],
      "execution_count": 2,
      "outputs": [
        {
          "output_type": "stream",
          "text": [
            "TF version: 2.4.1\n",
            "Result before save:  tf.Tensor(125.0, shape=(), dtype=float32)\n",
            "INFO:tensorflow:Assets written to: ./saved/pow/1/assets\n",
            "_SignatureMap({'serving_default': <ConcreteFunction signature_wrapper(*, y, x) at 0x7F069766E7D0>})\n",
            "Result after reload:  tf.Tensor(125.0, shape=(), dtype=float32)\n"
          ],
          "name": "stdout"
        }
      ]
    }
  ]
}