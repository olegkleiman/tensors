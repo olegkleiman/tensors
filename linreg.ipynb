{
 "metadata": {
  "language_info": {
   "codemirror_mode": {
    "name": "ipython",
    "version": 3
   },
   "file_extension": ".py",
   "mimetype": "text/x-python",
   "name": "python",
   "nbconvert_exporter": "python",
   "pygments_lexer": "ipython3",
   "version": "3.8.2-final"
  },
  "orig_nbformat": 2,
  "kernelspec": {
   "name": "python3",
   "display_name": "Python 3",
   "language": "python"
  }
 },
 "nbformat": 4,
 "nbformat_minor": 2,
 "cells": [
  {
   "cell_type": "code",
   "execution_count": 20,
   "metadata": {
    "tags": []
   },
   "outputs": [
    {
     "output_type": "stream",
     "name": "stdout",
     "text": [
      "TensorFlow version:  2.4.1\n",
      "m: 0.421551, b: 1.487340\n"
     ]
    }
   ],
   "source": [
    "import tensorflow as tf\n",
    "print(\"TensorFlow version: \", tf.__version__)\n",
    "# tf.debugging.set_log_device_placement(False)\n",
    "\n",
    "logdir = './logs/linreg'\n",
    "writer = tf.summary.create_file_writer(logdir)\n",
    "\n",
    "step = 20\n",
    "slope = 0.4\n",
    "bias = 1.5\n",
    "rows = 100\n",
    "\n",
    "learning_rate = 0.05\n",
    "steps = 400\n",
    "\n",
    "x_train = tf.random.uniform(shape=(rows,))\n",
    "perturb = tf.random.normal(shape=(len(x_train),), stddev=0.01)\n",
    "y_train = slope * x_train + bias + perturb\n",
    "\n",
    "m = tf.Variable(0.)\n",
    "b = tf.Variable(0.)\n",
    "\n",
    "# @tf.function\n",
    "def predict_y_value(x):\n",
    "    y = m * x + b\n",
    "    return y\n",
    "\n",
    "# @tf.function\n",
    "def squared_error(y_pred, y_true):\n",
    "    return tf.reduce_mean(tf.square(y_pred - y_true))\n",
    "\n",
    "# tf.summary.trace_on(graph=True, profiler=True)\n",
    "\n",
    "for epoch in range(steps):\n",
    "    with tf.GradientTape() as tape:\n",
    "        predictions = predict_y_value(x_train)\n",
    "        loss = squared_error(predictions, y_train)\n",
    "\n",
    "    gradients = tape.gradient(loss, [m, b])\n",
    "    m.assign_sub(gradients[0] * learning_rate)\n",
    "    b.assign_sub(gradients[1] * learning_rate)\n",
    "\n",
    "    with writer.as_default():\n",
    "        tf.summary.scalar('training loss', loss, step=epoch+1)\n",
    "        writer.flush()\n",
    "    \n",
    "    # writer.flush()\n",
    "\n",
    "print(\"m: %f, b: %f\" % (m.numpy(), b.numpy()) )\n",
    "\n",
    "# with writer.as_default():\n",
    "#     tf.summary.trace_export(\n",
    "#         name='linreg',\n",
    "#         step=0,\n",
    "#         profiler_outdir=logdir\n",
    "#     )"
   ]
  },
  {
   "cell_type": "code",
   "execution_count": 21,
   "metadata": {},
   "outputs": [
    {
     "output_type": "stream",
     "name": "stdout",
     "text": [
      "The tensorboard extension is already loaded. To reload it, use:\n  %reload_ext tensorboard\n"
     ]
    },
    {
     "output_type": "display_data",
     "data": {
      "text/plain": "Reusing TensorBoard on port 6006 (pid 85331), started 12:23:15 ago. (Use '!kill 85331' to kill it.)"
     },
     "metadata": {}
    }
   ],
   "source": [
    "%load_ext tensorboard\n",
    "%tensorboard --logdir ./logs/linreg"
   ]
  },
  {
   "cell_type": "code",
   "execution_count": null,
   "metadata": {},
   "outputs": [],
   "source": []
  }
 ]
}