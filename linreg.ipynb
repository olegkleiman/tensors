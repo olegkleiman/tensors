{
 "metadata": {
  "language_info": {
   "codemirror_mode": {
    "name": "ipython",
    "version": 3
   },
   "file_extension": ".py",
   "mimetype": "text/x-python",
   "name": "python",
   "nbconvert_exporter": "python",
   "pygments_lexer": "ipython3",
   "version": "3.8.5-final"
  },
  "orig_nbformat": 2,
  "kernelspec": {
   "name": "python3",
   "display_name": "Python 3.8.5 64-bit ('venv')",
   "metadata": {
    "interpreter": {
     "hash": "b03cdb3e8540ec837d1298ff318e6b1e263f37eac52553cd133d0f2651fd34cc"
    }
   }
  }
 },
 "nbformat": 4,
 "nbformat_minor": 2,
 "cells": [
  {
   "cell_type": "code",
   "execution_count": 6,
   "metadata": {
    "tags": []
   },
   "outputs": [
    {
     "output_type": "stream",
     "name": "stdout",
     "text": [
      "TensorFlow version:  2.4.1\n",
      "WARNING:tensorflow:Trace already enabled\n",
      "m: 0.416172, b: 1.491044\n"
     ]
    }
   ],
   "source": [
    "import tensorflow as tf\n",
    "print(\"TensorFlow version: \", tf.__version__)\n",
    "# tf.debugging.set_log_device_placement(False)\n",
    "\n",
    "logdir = './logs/linreg'\n",
    "writer = tf.summary.create_file_writer(logdir)\n",
    "\n",
    "step = 20\n",
    "slope = 0.4\n",
    "bias = 1.5\n",
    "rows = 100\n",
    "\n",
    "\n",
    "x_train = tf.random.uniform(shape=(rows,))\n",
    "perturb = tf.random.normal(shape=(len(x_train),), stddev=0.01)\n",
    "y_train = slope * x_train + bias + perturb\n",
    "\n",
    "m = tf.Variable(0.)\n",
    "b = tf.Variable(0.)\n",
    "\n",
    "def predict_y_value(x):\n",
    "    y = m * x + b\n",
    "    return y\n",
    "\n",
    "@tf.function\n",
    "def squared_error(y_pred, y_true):\n",
    "    return tf.reduce_mean(tf.square(y_pred - y_true))\n",
    "\n",
    "learning_rate = 0.05\n",
    "steps = 400\n",
    "\n",
    "# Bracket the loss function call - squared_error() - with\n",
    "# tf.summary.trace_on() ans tf.summary.trace_export()\n",
    "tf.summary.trace_on(graph=True, profiler=False)\n",
    "\n",
    "with writer.as_default():\n",
    "    for epoch in range(steps):\n",
    "        with tf.GradientTape() as tape:\n",
    "            predictions = predict_y_value(x_train)\n",
    "            loss = squared_error(predictions, y_train)\n",
    "            tf.summary.scalar('loss', loss, step=epoch)\n",
    "\n",
    "            gradients = tape.gradient(loss, [m, b])\n",
    "            m.assign_sub(gradients[0] * learning_rate)\n",
    "            b.assign_sub(gradients[1] * learning_rate)\n",
    "\n",
    "    tf.summary.trace_export(name='mse_loss',\n",
    "                            step=0,\n",
    "                            profiler_outdir=logdir)\n",
    "    \n",
    "\n",
    "print(\"m: %f, b: %f\" % (m.numpy(), b.numpy()) )\n"
   ]
  },
  {
   "cell_type": "code",
   "execution_count": 7,
   "metadata": {},
   "outputs": [
    {
     "output_type": "stream",
     "name": "stdout",
     "text": [
      "The tensorboard extension is already loaded. To reload it, use:\n  %reload_ext tensorboard\n"
     ]
    },
    {
     "output_type": "display_data",
     "data": {
      "text/plain": "Reusing TensorBoard on port 6006 (pid 31200), started 0:08:42 ago. (Use '!kill 31200' to kill it.)"
     },
     "metadata": {}
    }
   ],
   "source": [
    "%load_ext tensorboard\n",
    "%tensorboard --logdir ./logs/linreg"
   ]
  },
  {
   "cell_type": "code",
   "execution_count": null,
   "metadata": {},
   "outputs": [],
   "source": []
  }
 ]
}